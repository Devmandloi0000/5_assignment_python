{
 "cells": [
  {
   "cell_type": "markdown",
   "id": "10a0c4ea",
   "metadata": {},
   "source": [
    "# 5 Assignment of python"
   ]
  },
  {
   "cell_type": "markdown",
   "id": "9b509996",
   "metadata": {},
   "source": [
    "## QUE(1)"
   ]
  },
  {
   "cell_type": "markdown",
   "id": "a7361bf0",
   "metadata": {},
   "source": [
    "1. What does an empty dictionary's code look like?"
   ]
  },
  {
   "cell_type": "code",
   "execution_count": 4,
   "id": "29dd16fe",
   "metadata": {},
   "outputs": [
    {
     "data": {
      "text/plain": [
       "dict"
      ]
     },
     "execution_count": 4,
     "metadata": {},
     "output_type": "execute_result"
    }
   ],
   "source": [
    "# An empty dictionrary is a pair of curly bracktes, dictionary contain a key value pair\n",
    "\n",
    "dictionary = {}\n",
    "\n",
    "type(dictionary)"
   ]
  },
  {
   "cell_type": "markdown",
   "id": "2853036d",
   "metadata": {},
   "source": [
    "## QUE(2)"
   ]
  },
  {
   "cell_type": "markdown",
   "id": "5bef75d0",
   "metadata": {},
   "source": [
    "2. What is the value of a dictionary value with the key 'foo' and the value 42?"
   ]
  },
  {
   "cell_type": "code",
   "execution_count": 5,
   "id": "4b1ac451",
   "metadata": {},
   "outputs": [
    {
     "data": {
      "text/plain": [
       "42"
      ]
     },
     "execution_count": 5,
     "metadata": {},
     "output_type": "execute_result"
    }
   ],
   "source": [
    "a = {'foo':42}\n",
    "\n",
    "a['foo']"
   ]
  },
  {
   "cell_type": "markdown",
   "id": "cbb5f144",
   "metadata": {},
   "source": [
    "## QUE(3)"
   ]
  },
  {
   "cell_type": "markdown",
   "id": "1a81156b",
   "metadata": {},
   "source": [
    "3. What is the most significant distinction between a dictionary and a list?"
   ]
  },
  {
   "cell_type": "code",
   "execution_count": 14,
   "id": "33e04378",
   "metadata": {},
   "outputs": [],
   "source": [
    "# dictionary and list are two different type of datatype:-\n",
    "# (1) dictionary contain a pair of keys and values and list does not contain a keys and values pair \n",
    "# (2) dictionary keys are mutable but values are immutable and list are mutable\n",
    "# (3) dict use {} whereas list uses []\n",
    "# (4) dict are unordered collection of data and list are order collection of data"
   ]
  },
  {
   "cell_type": "markdown",
   "id": "be018b64",
   "metadata": {},
   "source": [
    "## QUE(4)"
   ]
  },
  {
   "cell_type": "markdown",
   "id": "0ea8f38a",
   "metadata": {},
   "source": [
    "4. What happens if you try to access spam['foo'] if spam is {'bar': 100}?"
   ]
  },
  {
   "cell_type": "code",
   "execution_count": 15,
   "id": "15d7e304",
   "metadata": {},
   "outputs": [
    {
     "ename": "KeyError",
     "evalue": "'foo'",
     "output_type": "error",
     "traceback": [
      "\u001b[1;31m---------------------------------------------------------------------------\u001b[0m",
      "\u001b[1;31mKeyError\u001b[0m                                  Traceback (most recent call last)",
      "Input \u001b[1;32mIn [15]\u001b[0m, in \u001b[0;36m<cell line: 4>\u001b[1;34m()\u001b[0m\n\u001b[0;32m      1\u001b[0m spam \u001b[38;5;241m=\u001b[39m {\u001b[38;5;124m'\u001b[39m\u001b[38;5;124mbar\u001b[39m\u001b[38;5;124m'\u001b[39m:\u001b[38;5;241m100\u001b[39m}\n\u001b[1;32m----> 4\u001b[0m \u001b[43mspam\u001b[49m\u001b[43m[\u001b[49m\u001b[38;5;124;43m'\u001b[39;49m\u001b[38;5;124;43mfoo\u001b[39;49m\u001b[38;5;124;43m'\u001b[39;49m\u001b[43m]\u001b[49m\n",
      "\u001b[1;31mKeyError\u001b[0m: 'foo'"
     ]
    }
   ],
   "source": [
    "spam = {'bar':100}\n",
    "\n",
    "\n",
    "spam['foo']\n",
    "# if we tried to access unknown key or key that are not present into the dictionary then there will be an error "
   ]
  },
  {
   "cell_type": "markdown",
   "id": "b467bae5",
   "metadata": {},
   "source": [
    "## QUE(5) "
   ]
  },
  {
   "cell_type": "markdown",
   "id": "32eeed5d",
   "metadata": {},
   "source": [
    "5. If a dictionary is stored in spam, what is the difference between the expressions 'cat' in spam and 'cat' in spam.keys()?"
   ]
  },
  {
   "cell_type": "code",
   "execution_count": 36,
   "id": "bedb85f2",
   "metadata": {},
   "outputs": [],
   "source": [
    "spam = {'cat':'male'}\n",
    "\n",
    "# 'cat' : is keys\n",
    "# '100' : is values"
   ]
  },
  {
   "cell_type": "code",
   "execution_count": 37,
   "id": "7bbdaab4",
   "metadata": {},
   "outputs": [
    {
     "name": "stdout",
     "output_type": "stream",
     "text": [
      "True\n",
      "True\n"
     ]
    }
   ],
   "source": [
    "print('cat' in spam)\n",
    "print('cat' in spam.keys())\n",
    "\n",
    "# here 'cat' is used for check whether keys in the dict \n",
    "# 'cat' here to check whether key contain 'cat' \n",
    "# both are gives the same output "
   ]
  },
  {
   "cell_type": "markdown",
   "id": "85ef61e7",
   "metadata": {},
   "source": [
    "##  QUE(6)"
   ]
  },
  {
   "cell_type": "markdown",
   "id": "6d41b7e4",
   "metadata": {},
   "source": [
    "6. If a dictionary is stored in spam, what is the difference between the expressions 'cat' in spam and 'cat' in spam.values()?"
   ]
  },
  {
   "cell_type": "code",
   "execution_count": 38,
   "id": "08d4a913",
   "metadata": {},
   "outputs": [],
   "source": [
    "spam = {'cat':'female'}"
   ]
  },
  {
   "cell_type": "code",
   "execution_count": 40,
   "id": "4dc2026e",
   "metadata": {},
   "outputs": [
    {
     "name": "stdout",
     "output_type": "stream",
     "text": [
      "True\n",
      "False\n"
     ]
    }
   ],
   "source": [
    "print('cat' in spam)\n",
    "print('cat' in spam.values())\n",
    "\n",
    "#  here ('cat'in spam )is used for check whether keys contain 'cat' in the dict \n",
    "# 'cat' here to check whether value contain 'cat' or not\n",
    "#  in dictionary cat are not present in value therefore the it gives an False"
   ]
  },
  {
   "cell_type": "markdown",
   "id": "579dd1b4",
   "metadata": {},
   "source": [
    "##  QUE(7)"
   ]
  },
  {
   "cell_type": "markdown",
   "id": "74b47d20",
   "metadata": {},
   "source": [
    "7. What is a shortcut for the following code?\n",
    "if 'color' not in spam:\n",
    "spam['color'] = 'black'\n"
   ]
  },
  {
   "cell_type": "code",
   "execution_count": 46,
   "id": "2b6b5cb3",
   "metadata": {},
   "outputs": [
    {
     "name": "stdout",
     "output_type": "stream",
     "text": [
      "{'cat': 'female', 'color': 'black'}\n"
     ]
    }
   ],
   "source": [
    "spam = {'cat':'female'}  # dictionary\n",
    "\n",
    "spam.setdefault('color','black') # setdefault is the shortcut to add a new keys and values \n",
    "\n",
    "print(spam)"
   ]
  },
  {
   "cell_type": "markdown",
   "id": "4aa9ec47",
   "metadata": {},
   "source": [
    "## QUE(8) "
   ]
  },
  {
   "cell_type": "markdown",
   "id": "c02c1e97",
   "metadata": {},
   "source": [
    "8. How do you \"pretty print\" dictionary values using which module and function?"
   ]
  },
  {
   "cell_type": "code",
   "execution_count": 47,
   "id": "e88255df",
   "metadata": {},
   "outputs": [],
   "source": [
    "import pprint"
   ]
  },
  {
   "cell_type": "code",
   "execution_count": 50,
   "id": "54d6fec8",
   "metadata": {},
   "outputs": [],
   "source": [
    "mydict = [{'name':'dev','age':25,'education':'m-tech','cgpa':6.2}]"
   ]
  },
  {
   "cell_type": "code",
   "execution_count": 53,
   "id": "d225b411",
   "metadata": {},
   "outputs": [
    {
     "name": "stdout",
     "output_type": "stream",
     "text": [
      "[{'age': 25, 'cgpa': 6.2, 'education': 'm-tech', 'name': 'dev'}]\n"
     ]
    }
   ],
   "source": [
    "pprint.pprint(mydict) \n",
    "\n",
    "# pprint is used for print in a order format"
   ]
  },
  {
   "cell_type": "code",
   "execution_count": 54,
   "id": "ee4c9263",
   "metadata": {},
   "outputs": [
    {
     "name": "stdout",
     "output_type": "stream",
     "text": [
      "[{'name': 'dev', 'age': 25, 'education': 'm-tech', 'cgpa': 6.2}]\n"
     ]
    }
   ],
   "source": [
    "print(mydict)\n",
    "\n",
    "# print is used to print as per dict has its format"
   ]
  },
  {
   "cell_type": "code",
   "execution_count": null,
   "id": "148c74c8",
   "metadata": {},
   "outputs": [],
   "source": []
  }
 ],
 "metadata": {
  "kernelspec": {
   "display_name": "Python 3 (ipykernel)",
   "language": "python",
   "name": "python3"
  },
  "language_info": {
   "codemirror_mode": {
    "name": "ipython",
    "version": 3
   },
   "file_extension": ".py",
   "mimetype": "text/x-python",
   "name": "python",
   "nbconvert_exporter": "python",
   "pygments_lexer": "ipython3",
   "version": "3.9.12"
  }
 },
 "nbformat": 4,
 "nbformat_minor": 5
}
